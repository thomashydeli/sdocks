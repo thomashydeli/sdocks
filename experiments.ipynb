{
 "cells": [
  {
   "cell_type": "code",
   "execution_count": 1,
   "metadata": {},
   "outputs": [],
   "source": [
    "import numpy as np\n",
    "import pandas as pd\n",
    "import yfinance as yfin\n",
    "import matplotlib.pyplot as plt\n",
    "from sdocks.consts import InvestmentData\n",
    "from sdocks.performance import PerfMetrics\n",
    "from plotly import graph_objects as go\n",
    "from pandas_datareader import data as web"
   ]
  },
  {
   "cell_type": "code",
   "execution_count": 2,
   "metadata": {},
   "outputs": [
    {
     "name": "stdout",
     "output_type": "stream",
     "text": [
      "[*********************100%%**********************]  1 of 1 completed\n"
     ]
    }
   ],
   "source": [
    "yfin.pdr_override()\n",
    "benchmark_data=web.DataReader(\n",
    "    'SPY',start='2015-12-31',end='2020-01-01'\n",
    ").reset_index()"
   ]
  },
  {
   "cell_type": "code",
   "execution_count": 3,
   "metadata": {},
   "outputs": [
    {
     "name": "stdout",
     "output_type": "stream",
     "text": [
      "[*********************100%%**********************]  1 of 1 completed\n"
     ]
    }
   ],
   "source": [
    "# data=pd.read_csv('AWU.csv')\n",
    "data=web.DataReader(\n",
    "    'META',start='2015-12-31',end='2020-01-01'\n",
    ").reset_index()\n",
    "\n",
    "eod_data=data[['Date','Close']]\n",
    "eod_data.columns=['date','close']\n",
    "dates=[str(v)[:10] for v in list(eod_data.date.values)]\n",
    "prices=list(eod_data.close.values)"
   ]
  },
  {
   "cell_type": "code",
   "execution_count": 4,
   "metadata": {},
   "outputs": [],
   "source": [
    "investment_data=InvestmentData(dates, prices)\n",
    "investment_data.get_return()\n",
    "investment_data.get_log_return()\n",
    "data=investment_data.get_data()"
   ]
  },
  {
   "cell_type": "code",
   "execution_count": 5,
   "metadata": {},
   "outputs": [],
   "source": [
    "benchmark_data=InvestmentData(\n",
    "    [str(v)[:10] for v in benchmark_data['Date'].values], \n",
    "    list(benchmark_data['Close'].values)\n",
    ")\n",
    "benchmark_data.get_log_return()\n",
    "benchmark_data=benchmark_data.get_data()"
   ]
  },
  {
   "cell_type": "code",
   "execution_count": 6,
   "metadata": {},
   "outputs": [],
   "source": [
    "data=investment_data.get_data()\n",
    "data=data[data.date >= '2016-01-01']\n",
    "perf=PerfMetrics(\n",
    "    data,\n",
    "    0,\n",
    "    benchmark_log_return=benchmark_data.dropna()['log return'].values,\n",
    "    drawdown_method='percent',\n",
    "    calmer_years=10\n",
    ")\n",
    "payload=perf.get_payload()"
   ]
  },
  {
   "cell_type": "code",
   "execution_count": 7,
   "metadata": {},
   "outputs": [
    {
     "data": {
      "text/plain": [
       "{'volatility': 0.28814144535810976,\n",
       " 'cagr': 0.19095296539024864,\n",
       " 'sharpe': 0.6627056553871564,\n",
       " 'downside_deviation': 0.20347510726989393,\n",
       " 'sortino_ratio': 0.9384586053416567,\n",
       " 'max_drawdown': {'max_drawdown': 0.42960917949676514,\n",
       "  'peak_date': numpy.datetime64('2018-07-25T00:00:00.000000000'),\n",
       "  'peak_price': 217.5,\n",
       "  'trough_date': numpy.datetime64('2018-12-24T00:00:00.000000000'),\n",
       "  'trough_price': 124.06},\n",
       " 'log_max_drawdown_ratio': 0.13566804,\n",
       " 'calmer_ratio': 0.16805355123600996,\n",
       " 'pps': 0.12890557308698322,\n",
       " 'jensens_alpha': 0.00011565018327158098}"
      ]
     },
     "execution_count": 7,
     "metadata": {},
     "output_type": "execute_result"
    }
   ],
   "source": [
    "payload"
   ]
  },
  {
   "cell_type": "code",
   "execution_count": null,
   "metadata": {},
   "outputs": [],
   "source": [
    "fig=go.Figure()\n",
    "fig.add_trace(\n",
    "    go.Scatter(\n",
    "        x=pd.to_datetime(data.date.values),\n",
    "        y=data.price.values,\n",
    "        name='prices'\n",
    "    )\n",
    ")\n",
    "fig.add_trace(\n",
    "    go.Scatter(\n",
    "        x=pd.to_datetime(\n",
    "            [payload['max_drawdown']['trough_date'], payload['max_drawdown']['peak_date']]\n",
    "        ),\n",
    "        y=[\n",
    "            payload['max_drawdown']['trough_price'], payload['max_drawdown']['peak_price']\n",
    "        ],\n",
    "        name=f\"Max Drawdown: {payload['max_drawdown']['max_drawdown']*100:.2f} %\"\n",
    "    )\n",
    ")\n",
    "fig.update_layout(\n",
    "    dict(\n",
    "        title='AWU'\n",
    "    )\n",
    ")"
   ]
  },
  {
   "cell_type": "code",
   "execution_count": null,
   "metadata": {},
   "outputs": [],
   "source": []
  }
 ],
 "metadata": {
  "kernelspec": {
   "display_name": "env",
   "language": "python",
   "name": "python3"
  },
  "language_info": {
   "codemirror_mode": {
    "name": "ipython",
    "version": 3
   },
   "file_extension": ".py",
   "mimetype": "text/x-python",
   "name": "python",
   "nbconvert_exporter": "python",
   "pygments_lexer": "ipython3",
   "version": "3.9.12"
  },
  "orig_nbformat": 4
 },
 "nbformat": 4,
 "nbformat_minor": 2
}
